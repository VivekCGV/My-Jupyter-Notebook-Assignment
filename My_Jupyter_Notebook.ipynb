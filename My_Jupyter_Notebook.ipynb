{
 "cells": [
  {
   "cell_type": "markdown",
   "metadata": {},
   "source": [
    "<center>\n",
    "    <img src=\"https://cf-courses-data.s3.us.cloud-object-storage.appdomain.cloud/IBMDeveloperSkillsNetwork-DS0105EN-SkillsNetwork/labs/Module2/images/SN_web_lightmode.png\" width=\"300\" alt=\"cognitiveclass.ai logo\"  />\n",
    "</center>\n"
   ]
  },
  {
   "cell_type": "markdown",
   "metadata": {},
   "source": [
    "#### Add your code below following the instructions given in the course\n"
   ]
  },
  {
   "cell_type": "markdown",
   "metadata": {},
   "source": [
    "# My Jupyter Note on IBM Watson Studio\n",
    "**Vivek**\n",
    "Automation Engineer\n",
    "*I am interested in Data Science because I wanted to create data comprising all World wide happenings like Google in future and also I wanted to explore more about AI*\n",
    "### The following code is about Fibonacci Series"
   ]
  },
  {
   "cell_type": "code",
   "execution_count": 5,
   "metadata": {
    "tags": []
   },
   "outputs": [
    {
     "name": "stdin",
     "output_type": "stream",
     "text": [
      "enter the first element 5\n",
      "enter the second element 6\n",
      "enter the number of elements  10\n"
     ]
    },
    {
     "name": "stdout",
     "output_type": "stream",
     "text": [
      "5 6 11 17 28 45 73 118 191 309 "
     ]
    }
   ],
   "source": [
    "a = int(input('enter the first element'))\n",
    "b = int(input('enter the second element'))\n",
    "n = int(input('enter the number of elements '))\n",
    "print(a,b, end=\" \")\n",
    " \n",
    "while n-2:\n",
    "       c = a + b\n",
    "       a = b\n",
    "       b = c\n",
    "       print(c, end=\" \")\n",
    "       n = n-1"
   ]
  },
  {
   "cell_type": "code",
   "execution_count": null,
   "metadata": {},
   "outputs": [],
   "source": []
  }
 ],
 "metadata": {
  "kernelspec": {
   "display_name": "Python",
   "language": "python",
   "name": "conda-env-python-py"
  },
  "language_info": {
   "codemirror_mode": {
    "name": "ipython",
    "version": 3
   },
   "file_extension": ".py",
   "mimetype": "text/x-python",
   "name": "python",
   "nbconvert_exporter": "python",
   "pygments_lexer": "ipython3",
   "version": "3.7.12"
  }
 },
 "nbformat": 4,
 "nbformat_minor": 4
}
